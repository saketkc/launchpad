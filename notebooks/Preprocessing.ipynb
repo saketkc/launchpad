{
 "cells": [
  {
   "cell_type": "code",
   "execution_count": 4,
   "metadata": {
    "collapsed": false
   },
   "outputs": [
    {
     "data": {
      "text/plain": [
       "[0, 1, 2, 3]"
      ]
     },
     "execution_count": 4,
     "metadata": {},
     "output_type": "execute_result"
    }
   ],
   "source": [
    "from IPython import parallel\n",
    "rc = parallel.Client()\n",
    "dv = rc[:]\n",
    "rc.ids"
   ]
  },
  {
   "cell_type": "code",
   "execution_count": 12,
   "metadata": {
    "collapsed": false
   },
   "outputs": [],
   "source": [
    "%matplotlib inline\n",
    "import matplotlib.pyplot as plt\n",
    "import dask.dataframe as dd\n",
    "import numpy as np\n",
    "import pandas as pd\n",
    "import pickle\n",
    "\n",
    "def marshall_palmer(ref, minutes_past):\n",
    "    #minutes_past = df['minutes_past']\n",
    "\n",
    "    minutes_in_segment = 60.0\n",
    "    valid_time = minutes_past.diff()\n",
    "    valid_time.iloc[0] = minutes_past.iloc[0]\n",
    "    valid_time.iloc[-1] = valid_time.iloc[-1] + minutes_in_segment - np.sum(valid_time)\n",
    "    valid_time = valid_time/60.0\n",
    "    valid_time = valid_time[np.isfinite(ref)]\n",
    "    ref = ref[np.isfinite(ref)]\n",
    "    mmperhr = np.dot(pow(pow(10, ref/10)/200, 0.625), valid_time)\n",
    "    return mmperhr\n",
    "\n",
    "def operate_on_each_hour(hour):\n",
    "    hour = hour.sort('minutes_past', ascending=True)\n",
    "    gauge_estimate = marshall_palmer(hour['Ref'], hour['minutes_past'])\n",
    "    #hour['gauge_estimated'] = gauge_estimate\n",
    "    return gauge_estimate\n",
    "\n"
   ]
  },
  {
   "cell_type": "code",
   "execution_count": 13,
   "metadata": {
    "collapsed": false
   },
   "outputs": [
    {
     "name": "stdout",
     "output_type": "stream",
     "text": [
      "CPU times: user 4 µs, sys: 4 µs, total: 8 µs\n",
      "Wall time: 23.1 µs\n"
     ]
    }
   ],
   "source": [
    "%time\n",
    "traindata = dd.read_csv('../data/train.csv')\n",
    "traindata = traindata.set_index('Id')\n",
    "#groups = traindata.groupby(traindata.index)"
   ]
  },
  {
   "cell_type": "code",
   "execution_count": 15,
   "metadata": {
    "collapsed": false
   },
   "outputs": [],
   "source": [
    "%%px\n",
    "def marshall_palmer(ref, minutes_past):\n",
    "    #minutes_past = df['minutes_past']\n",
    "\n",
    "    minutes_in_segment = 60.0\n",
    "    valid_time = minutes_past.diff()\n",
    "    valid_time.iloc[0] = minutes_past.iloc[0]\n",
    "    valid_time.iloc[-1] = valid_time.iloc[-1] + minutes_in_segment - np.sum(valid_time)\n",
    "    valid_time = valid_time/60.0\n",
    "    valid_time = valid_time[np.isfinite(ref)]\n",
    "    ref = ref[np.isfinite(ref)]\n",
    "    mmperhr = np.dot(pow(pow(10, ref/10)/200, 0.625), valid_time)\n",
    "    return mmperhr\n",
    "\n",
    "def operate_on_each_hour(hour):\n",
    "    hour = hour.sort('minutes_past', ascending=True)\n",
    "    gauge_estimate = marshall_palmer(hour['Ref'], hour['minutes_past'])\n",
    "    #hour['gauge_estimated'] = gauge_estimate\n",
    "    return gauge_estimate\n"
   ]
  },
  {
   "cell_type": "code",
   "execution_count": 28,
   "metadata": {
    "collapsed": false
   },
   "outputs": [
    {
     "ename": "TypeError",
     "evalue": "join() got an unexpected keyword argument 'suffix'",
     "output_type": "error",
     "traceback": [
      "\u001b[1;31m---------------------------------------------------------------------------\u001b[0m",
      "\u001b[1;31mTypeError\u001b[0m                                 Traceback (most recent call last)",
      "\u001b[1;32m<ipython-input-28-69ca8525e6e2>\u001b[0m in \u001b[0;36m<module>\u001b[1;34m()\u001b[0m\n\u001b[1;32m----> 1\u001b[1;33m \u001b[0mtraindata\u001b[0m\u001b[1;33m.\u001b[0m\u001b[0mjoin\u001b[0m\u001b[1;33m(\u001b[0m\u001b[0mgrouped_vals\u001b[0m\u001b[1;33m,\u001b[0m \u001b[0mon\u001b[0m\u001b[1;33m=\u001b[0m\u001b[1;34m'Ref'\u001b[0m\u001b[1;33m,\u001b[0m \u001b[0msuffix\u001b[0m\u001b[1;33m=\u001b[0m\u001b[1;34m'r_'\u001b[0m\u001b[1;33m)\u001b[0m\u001b[1;33m\u001b[0m\u001b[0m\n\u001b[0m",
      "\u001b[1;31mTypeError\u001b[0m: join() got an unexpected keyword argument 'suffix'"
     ]
    }
   ],
   "source": [
    "traindata.join(grouped_vals, on='Ref', suffix='r_')"
   ]
  },
  {
   "cell_type": "code",
   "execution_count": 16,
   "metadata": {
    "collapsed": false
   },
   "outputs": [
    {
     "name": "stdout",
     "output_type": "stream",
     "text": [
      "CPU times: user 5 µs, sys: 1 µs, total: 6 µs\n",
      "Wall time: 11.2 µs\n"
     ]
    }
   ],
   "source": [
    "%time\n",
    "traindata = pd.read_csv('../data/train.csv')\n",
    "traindata = traindata.set_index('Id')\n"
   ]
  },
  {
   "cell_type": "code",
   "execution_count": 20,
   "metadata": {
    "collapsed": false
   },
   "outputs": [
    {
     "name": "stdout",
     "output_type": "stream",
     "text": [
      "CPU times: user 5 µs, sys: 1e+03 ns, total: 6 µs\n",
      "Wall time: 11 µs\n"
     ]
    },
    {
     "name": "stderr",
     "output_type": "stream",
     "text": [
      "/home/saket/anaconda/lib/python2.7/site-packages/ipykernel/__main__.py:22: FutureWarning: sort(columns=....) is deprecated, use sort_values(by=.....)\n"
     ]
    },
    {
     "data": {
      "text/plain": [
       "Id\n",
       "1          0.000000\n",
       "1          0.000000\n",
       "1          0.000000\n",
       "1          0.000000\n",
       "1          0.000000\n",
       "1          0.000000\n",
       "2          0.630814\n",
       "2          0.630814\n",
       "2          0.630814\n",
       "2          0.630814\n",
       "2          0.630814\n",
       "2          0.630814\n",
       "2          0.630814\n",
       "2          0.630814\n",
       "2          0.630814\n",
       "2          0.630814\n",
       "2          0.630814\n",
       "2          0.630814\n",
       "3          0.000000\n",
       "3          0.000000\n",
       "3          0.000000\n",
       "3          0.000000\n",
       "3          0.000000\n",
       "3          0.000000\n",
       "3          0.000000\n",
       "3          0.000000\n",
       "3          0.000000\n",
       "3          0.000000\n",
       "3          0.000000\n",
       "3          0.000000\n",
       "             ...   \n",
       "1180944    1.365416\n",
       "1180944    1.365416\n",
       "1180944    1.365416\n",
       "1180944    1.365416\n",
       "1180944    1.365416\n",
       "1180944    1.365416\n",
       "1180944    1.365416\n",
       "1180944    1.365416\n",
       "1180944    1.365416\n",
       "1180944    1.365416\n",
       "1180944    1.365416\n",
       "1180944    1.365416\n",
       "1180944    1.365416\n",
       "1180944    1.365416\n",
       "1180944    1.365416\n",
       "1180944    1.365416\n",
       "1180944    1.365416\n",
       "1180945    3.579249\n",
       "1180945    3.579249\n",
       "1180945    3.579249\n",
       "1180945    3.579249\n",
       "1180945    3.579249\n",
       "1180945    3.579249\n",
       "1180945    3.579249\n",
       "1180945    3.579249\n",
       "1180945    3.579249\n",
       "1180945    3.579249\n",
       "1180945    3.579249\n",
       "1180945    3.579249\n",
       "1180945    3.579249\n",
       "Name: estimated, dtype: float64"
      ]
     },
     "execution_count": 20,
     "metadata": {},
     "output_type": "execute_result"
    }
   ],
   "source": [
    "%time\n",
    "traindata['estimated'] = traindata.groupby(traindata.index).apply(operate_on_each_hour)\n",
    "traindata['estimated']"
   ]
  },
  {
   "cell_type": "code",
   "execution_count": 21,
   "metadata": {
    "collapsed": false
   },
   "outputs": [
    {
     "data": {
      "text/plain": [
       "\"\\nplt.rcParams['figure.figsize'] = (10.0, 8.0)\\ngauge_expected = [];\\ngauge_observed = [];\\n\\nfor groupname, group in groups:\\n    expected = marshall_palmer(group['Ref'], group['minutes_past'])\\n    observed = group['Expected'].mean()\\n    gauge_observed.append(observed)\\n    gauge_expected.append(expected)\\n\\nplt.plot(gauge_expected, gauge_observed)\\n\""
      ]
     },
     "execution_count": 21,
     "metadata": {},
     "output_type": "execute_result"
    }
   ],
   "source": [
    "\"\"\"\n",
    "plt.rcParams['figure.figsize'] = (10.0, 8.0)\n",
    "gauge_expected = [];\n",
    "gauge_observed = [];\n",
    "\n",
    "for groupname, group in groups:\n",
    "    expected = marshall_palmer(group['Ref'], group['minutes_past'])\n",
    "    observed = group['Expected'].mean()\n",
    "    gauge_observed.append(observed)\n",
    "    gauge_expected.append(expected)\n",
    "\n",
    "plt.plot(gauge_expected, gauge_observed)\n",
    "\"\"\""
   ]
  },
  {
   "cell_type": "code",
   "execution_count": 22,
   "metadata": {
    "collapsed": false
   },
   "outputs": [
    {
     "name": "stderr",
     "output_type": "stream",
     "text": [
      "/home/saket/anaconda/lib/python2.7/site-packages/IPython/extensions/cythonmagic.py:21: UserWarning: The Cython magic has been moved to the Cython package\n",
      "  warnings.warn(\"\"\"The Cython magic has been moved to the Cython package\"\"\")\n"
     ]
    }
   ],
   "source": [
    "%load_ext cythonmagic\n",
    "\n",
    "\n"
   ]
  },
  {
   "cell_type": "code",
   "execution_count": null,
   "metadata": {
    "collapsed": true
   },
   "outputs": [],
   "source": [
    "%%cython\n",
    "def marshall_palmer(ref, minutes_past):\n",
    "    #minutes_past = df['minutes_past']\n",
    "\n",
    "    minutes_in_segment = 60.0\n",
    "    valid_time = minutes_past.diff()\n",
    "    valid_time.iloc[0] = minutes_past.iloc[0]\n",
    "    valid_time.iloc[-1] = valid_time.iloc[-1] + minutes_in_segment - np.sum(valid_time)\n",
    "    valid_time = valid_time/60.0\n",
    "    valid_time = valid_time[np.isfinite(ref)]\n",
    "    ref = ref[np.isfinite(ref)]\n",
    "    mmperhr = np.dot(pow(pow(10, ref/10)/200, 0.625), valid_time)\n",
    "    return mmperhr\n",
    "\n",
    "def operate_on_each_hour(hour):\n",
    "    hour = hour.sort('minutes_past', ascending=True)\n",
    "    gauge_estimate = marshall_palmer(hour['Ref'], hour['minutes_past'])\n",
    "    #hour['gauge_estimated'] = gauge_estimate\n",
    "    return gauge_estimate"
   ]
  },
  {
   "cell_type": "code",
   "execution_count": null,
   "metadata": {
    "collapsed": true
   },
   "outputs": [],
   "source": [
    "%time\n",
    "traindata['estimated'] = traindata.groupby(traindata.index).apply(operate_on_each_hour)\n",
    "traindata['estimated']"
   ]
  },
  {
   "cell_type": "code",
   "execution_count": 27,
   "metadata": {
    "collapsed": false
   },
   "outputs": [],
   "source": [
    "traindata.to_hdf('traindata_preprocessed.h5', 'traindata_preprocessed', format = 'fixed', mode='w', dropna=False, complevel=9)"
   ]
  },
  {
   "cell_type": "code",
   "execution_count": 28,
   "metadata": {
    "collapsed": true
   },
   "outputs": [],
   "source": [
    "read_from_hdf5 = pd.read_hdf('traindata_preprocessed.h5')\n"
   ]
  },
  {
   "cell_type": "code",
   "execution_count": 29,
   "metadata": {
    "collapsed": true
   },
   "outputs": [],
   "source": [
    "read_from_hdf5 = pd.read_hdf('traindata_preprocessed.h5')\n"
   ]
  },
  {
   "cell_type": "code",
   "execution_count": 34,
   "metadata": {
    "collapsed": false
   },
   "outputs": [
    {
     "data": {
      "text/plain": [
       "<matplotlib.text.Text at 0x7f9eebfef090>"
      ]
     },
     "execution_count": 34,
     "metadata": {},
     "output_type": "execute_result"
    },
    {
     "data": {
      "image/png": "[encoded data removed]",
      "text/plain": [
       "<matplotlib.figure.Figure at 0x7f9f0c0c1d50>"
      ]
     },
     "metadata": {},
     "output_type": "display_data"
    }
   ],
   "source": [
    "plt.rcParams['figure.figsize'] = (10.0, 8.0)\n",
    "\n",
    "plt.plot(read_from_hdf5.estimated, read_from_hdf5.Expected)\n",
    "plt.title('Calculated vs Observed Gauge Reading')"
   ]
  },
  {
   "cell_type": "code",
   "execution_count": 35,
   "metadata": {
    "collapsed": false
   },
   "outputs": [
    {
     "data": {
      "text/plain": [
       "count    13765201.000000\n",
       "mean          108.626306\n",
       "std           548.605805\n",
       "min             0.010000\n",
       "25%             0.254000\n",
       "50%             1.016000\n",
       "75%             3.810002\n",
       "max         33017.730000\n",
       "Name: Expected, dtype: float64"
      ]
     },
     "execution_count": 35,
     "metadata": {},
     "output_type": "execute_result"
    }
   ],
   "source": [
    "stats = read_from_hdf5.Expected.describe()\n",
    "stats"
   ]
  },
  {
   "cell_type": "code",
   "execution_count": null,
   "metadata": {
    "collapsed": true
   },
   "outputs": [],
   "source": []
  }
 ],
 "metadata": {
  "kernelspec": {
   "display_name": "Python 2",
   "language": "python",
   "name": "python2"
  },
  "language_info": {
   "codemirror_mode": {
    "name": "ipython",
    "version": 2
   },
   "file_extension": ".py",
   "mimetype": "text/x-python",
   "name": "python",
   "nbconvert_exporter": "python",
   "pygments_lexer": "ipython2",
   "version": "2.7.10"
  }
 },
 "nbformat": 4,
 "nbformat_minor": 0
}
