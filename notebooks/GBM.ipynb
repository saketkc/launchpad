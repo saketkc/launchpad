{
 "cells": [
  {
   "cell_type": "code",
   "execution_count": 4,
   "metadata": {
    "collapsed": false
   },
   "outputs": [
    {
     "name": "stdout",
     "output_type": "stream",
     "text": [
      "\n",
      "\n",
      "No instance found at ip and port: localhost:54321. Trying to start local jar...\n",
      "\n",
      "\n",
      "JVM stdout: /tmp/tmpylughc/h2o_saket_started_from_python.out\n",
      "JVM stderr: /tmp/tmpgSMxVd/h2o_saket_started_from_python.err\n",
      "Using ice_root: /tmp/tmpH1an7A\n",
      "\n",
      "\n",
      "Java Version: java version \"1.7.0_85\"\n",
      "OpenJDK Runtime Environment (IcedTea 2.6.1) (7u85-2.6.1-5ubuntu0.14.04.1)\n",
      "OpenJDK 64-Bit Server VM (build 24.85-b03, mixed mode)\n",
      "\n",
      "\n",
      "Starting H2O JVM and connecting: ....................... Connection sucessful!\n"
     ]
    },
    {
     "data": {
      "text/html": [
       "<div style=\"overflow:auto\"><table style=\"width:50%\"><tr><td>H2O cluster uptime: </td>\n",
       "<td>2 seconds 163 milliseconds </td></tr>\n",
       "<tr><td>H2O cluster version: </td>\n",
       "<td>3.2.0.9</td></tr>\n",
       "<tr><td>H2O cluster name: </td>\n",
       "<td>H2O_started_from_python</td></tr>\n",
       "<tr><td>H2O cluster total nodes: </td>\n",
       "<td>1</td></tr>\n",
       "<tr><td>H2O cluster total memory: </td>\n",
       "<td>3.46 GB</td></tr>\n",
       "<tr><td>H2O cluster total cores: </td>\n",
       "<td>4</td></tr>\n",
       "<tr><td>H2O cluster allowed cores: </td>\n",
       "<td>4</td></tr>\n",
       "<tr><td>H2O cluster healthy: </td>\n",
       "<td>True</td></tr>\n",
       "<tr><td>H2O Connection ip: </td>\n",
       "<td>127.0.0.1</td></tr>\n",
       "<tr><td>H2O Connection port: </td>\n",
       "<td>54321</td></tr></table></div>"
      ],
      "text/plain": [
       "--------------------------  --------------------------\n",
       "H2O cluster uptime:         2 seconds 163 milliseconds\n",
       "H2O cluster version:        3.2.0.9\n",
       "H2O cluster name:           H2O_started_from_python\n",
       "H2O cluster total nodes:    1\n",
       "H2O cluster total memory:   3.46 GB\n",
       "H2O cluster total cores:    4\n",
       "H2O cluster allowed cores:  4\n",
       "H2O cluster healthy:        True\n",
       "H2O Connection ip:          127.0.0.1\n",
       "H2O Connection port:        54321\n",
       "--------------------------  --------------------------"
      ]
     },
     "metadata": {},
     "output_type": "display_data"
    },
    {
     "name": "stdout",
     "output_type": "stream",
     "text": [
      "\n",
      "Parse Progress: [##################################################] 100%\n",
      "Imported ../data/train.csv. Parsed 13,765,201 rows and 24 cols\n"
     ]
    }
   ],
   "source": [
    "import h2o\n",
    "h2o.init()\n",
    "df = h2o.import_file('../data/train.csv')"
   ]
  },
  {
   "cell_type": "code",
   "execution_count": 6,
   "metadata": {
    "collapsed": false
   },
   "outputs": [],
   "source": [
    "import pandas as pd\n"
   ]
  },
  {
   "cell_type": "code",
   "execution_count": 7,
   "metadata": {
    "collapsed": true
   },
   "outputs": [],
   "source": [
    "def marshall_palmer(ref, minutes_past):\n",
    "    #minutes_past = df['minutes_past']\n",
    "\n",
    "    minutes_in_segment = 60.0\n",
    "    valid_time = minutes_past.diff()\n",
    "    valid_time.iloc[0] = minutes_past.iloc[0]\n",
    "    valid_time.iloc[-1] = valid_time.iloc[-1] + minutes_in_segment - np.sum(valid_time)\n",
    "    valid_time = valid_time/60.0\n",
    "    valid_time = valid_time[np.isfinite(ref)]\n",
    "    ref = ref[np.isfinite(ref)]\n",
    "    mmperhr = np.dot(pow(pow(10, ref/10)/200, 0.625), valid_time)\n",
    "    return mmperhr\n",
    "\n",
    "def operate_on_each_hour(hour):\n",
    "    hour = hour.sort('minutes_past', ascending=True)\n",
    "    gauge_estimate = marshall_palmer(hour['Ref'], hour['minutes_past'])\n",
    "    #hour['gauge_estimated'] = gauge_estimate\n",
    "    return gauge_estimate"
   ]
  },
  {
   "cell_type": "code",
   "execution_count": null,
   "metadata": {
    "collapsed": true
   },
   "outputs": [],
   "source": [
    "traindata = pd.read_csv('../data/train.csv')\n",
    "traindata = traindata.set_index('Id')\n",
    "traindata['estimated'] = traindata.groupby(traindata.index).apply(operate_on_each_hour)\n",
    "traindata['estimated']"
   ]
  },
  {
   "cell_type": "code",
   "execution_count": null,
   "metadata": {
    "collapsed": true
   },
   "outputs": [],
   "source": []
  }
 ],
 "metadata": {
  "kernelspec": {
   "display_name": "Python 2",
   "language": "python",
   "name": "python2"
  },
  "language_info": {
   "codemirror_mode": {
    "name": "ipython",
    "version": 2
   },
   "file_extension": ".py",
   "mimetype": "text/x-python",
   "name": "python",
   "nbconvert_exporter": "python",
   "pygments_lexer": "ipython2",
   "version": "2.7.10"
  }
 },
 "nbformat": 4,
 "nbformat_minor": 0
}
